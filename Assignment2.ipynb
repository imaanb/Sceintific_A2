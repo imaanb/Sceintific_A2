{
 "cells": [
  {
   "cell_type": "markdown",
   "metadata": {},
   "source": [
    "# Assignment 2"
   ]
  },
  {
   "cell_type": "code",
   "execution_count": null,
   "metadata": {},
   "outputs": [],
   "source": [
    "import numpy as np\n",
    "import matplotlib.pyplot as plt\n",
    "import random\n",
    "from numba import njit\n",
    "\n",
    "from src import "
   ]
  },
  {
   "cell_type": "markdown",
   "metadata": {},
   "source": [
    "## 2.1"
   ]
  },
  {
   "cell_type": "markdown",
   "metadata": {},
   "source": [
    "## 2.2"
   ]
  },
  {
   "cell_type": "markdown",
   "metadata": {},
   "source": [
    "### Plot final grid for different $p_s$ values"
   ]
  },
  {
   "cell_type": "code",
   "execution_count": null,
   "metadata": {},
   "outputs": [],
   "source": [
    "N = 100\n",
    "p_values = [0.25,0.5,0.75,1]\n",
    "plot_subplots(N, p_values)"
   ]
  },
  {
   "cell_type": "markdown",
   "metadata": {},
   "source": [
    "### Plot fractal dimension for different $p_s$ values"
   ]
  },
  {
   "cell_type": "code",
   "execution_count": null,
   "metadata": {},
   "outputs": [],
   "source": [
    "p_values = np.arange(0.01, 1.01, 0.01)\n",
    "num_p = len(p_values)\n",
    "iter = 1\n",
    "fract = np.zeros(num_p)\n",
    "j = 0\n",
    "for p in p_values:\n",
    "    fract_p = np.zeros(iter)\n",
    "    for i in range(iter):\n",
    "        grid = random_walk(N,p)\n",
    "        fract_p[i] = fractal_dimension(grid)\n",
    "    fract[j] = np.mean(fract_p)\n",
    "    j+=1\n",
    "    print(\"done with\", p)\n",
    "\n",
    "plt.plot(p_values, fract)\n",
    "plt.xlabel(\"$p_s$\", fontsize=20)\n",
    "plt.ylabel(\"Fractal dimension\", fontsize=20)\n",
    "plt.grid(True)\n",
    "plt.show()\n"
   ]
  }
 ],
 "metadata": {
  "kernelspec": {
   "display_name": "Python 3",
   "language": "python",
   "name": "python3"
  },
  "language_info": {
   "codemirror_mode": {
    "name": "ipython",
    "version": 3
   },
   "file_extension": ".py",
   "mimetype": "text/x-python",
   "name": "python",
   "nbconvert_exporter": "python",
   "pygments_lexer": "ipython3",
   "version": "3.11.7"
  }
 },
 "nbformat": 4,
 "nbformat_minor": 2
}
