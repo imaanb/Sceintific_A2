{
 "cells": [
  {
   "cell_type": "code",
   "execution_count": null,
   "metadata": {},
   "outputs": [],
   "source": [
    "import numpy as np"
   ]
  },
  {
   "cell_type": "code",
   "execution_count": 1,
   "metadata": {},
   "outputs": [],
   "source": [
    "N = 50 "
   ]
  },
  {
   "cell_type": "code",
   "execution_count": 5,
   "metadata": {},
   "outputs": [],
   "source": [
    "import numpy as np\n",
    "\n",
    "def weigth_map(N, concentration, eta):\n",
    "    \"\"\"\n",
    "    calculate the weight map \n",
    "    Parameters:\n",
    "    N: GRIDSIe\n",
    "    concentration: (2D array)\n",
    "    eta : neighbourhoodshape\n",
    "\n",
    "    returns:\n",
    "    2D array\n",
    "    \"\"\"\n",
    "    weights = np.zeros((N, N))\n",
    "    \n",
    "    for i in range(1, N-1):\n",
    "        for j in range(1, N-1):\n",
    "            if concentration[i, j] == 0:\n",
    "                continue\n",
    "            weights[i, j] = concentration[i, j] ** eta\n",
    "    \n",
    "    return weights\n",
    "\n",
    "\n",
    "# test \n",
    "\n"
   ]
  }
 ],
 "metadata": {
  "kernelspec": {
   "display_name": "Python 3",
   "language": "python",
   "name": "python3"
  },
  "language_info": {
   "codemirror_mode": {
    "name": "ipython",
    "version": 3
   },
   "file_extension": ".py",
   "mimetype": "text/x-python",
   "name": "python",
   "nbconvert_exporter": "python",
   "pygments_lexer": "ipython3",
   "version": "3.10.2"
  }
 },
 "nbformat": 4,
 "nbformat_minor": 2
}
