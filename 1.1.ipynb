{
 "cells": [
  {
   "cell_type": "code",
   "execution_count": 262,
   "metadata": {},
   "outputs": [],
   "source": [
    "import numpy as np\n",
    "import random as rd\n",
    "import matplotlib.pyplot as plt\n",
    "import imageio\n"
   ]
  },
  {
   "cell_type": "code",
   "execution_count": 263,
   "metadata": {},
   "outputs": [],
   "source": [
    "\n",
    "def SOR_iteration(c, w, N, epsilon = 1e-5, max_iter=10000):\n",
    "    c_next = c.copy()\n",
    "    results = {}\n",
    "\n",
    "    for k in range(max_iter): \n",
    "        for j in range(1, N):  # Skip boundaries in x-direction\n",
    "            for i in range(1, N):  # Skip boundaries in y-direction\n",
    "                c_next[i, j] = (\n",
    "                    w * 0.25\n",
    "                    * (c[i + 1, j] + c_next[i - 1, j] + c[i, j + 1] + c_next[i, j - 1])\n",
    "                    + (1 - w) * c[i,j]\n",
    "                )\n",
    "\n",
    "        # Apply periodic boundary conditions in the x-direction\n",
    "        for j in range (1, N):\n",
    "            c_next[N,j] = (\n",
    "                    w * 0.25\n",
    "                    * (c[1, j] + c_next[N - 1, j] + c[N, j + 1] + c_next[N, j - 1])\n",
    "                    + (1 - w) * c[N, j]\n",
    "                )\n",
    "            \n",
    "        c_next[0, 1:N] = c_next[N, 1:N]\n",
    "\n",
    "        # Apply fixed boundary conditions\n",
    "        c_next[:, N] = 1.0  # Top boundary\n",
    "        c_next[:, 0] = 0.0  # Bottom boundary\n",
    "\n",
    "        delta = np.max(np.abs(c_next-c))\n",
    "\n",
    "        results[k] = {\"c\": c_next.copy()[0], \"delta\": delta}\n",
    "\n",
    "        if delta < epsilon:\n",
    "            #print(\"SOR: \", k)\n",
    "            return c_next\n",
    "        else:\n",
    "            c[:] = c_next[:]\n"
   ]
  },
  {
   "cell_type": "code",
   "execution_count": 264,
   "metadata": {},
   "outputs": [],
   "source": [
    "def get_neighbours(i,j): \n",
    "    return [[i, j-1],[i, j+1],[i+1, j],[i-1, j]]\n",
    "\n",
    "def get_growth_candidates(grid, N): \n",
    "    candidates = []\n",
    "    for i in range(N): \n",
    "        for j in range(N): \n",
    "            if grid[i,j]:\n",
    "                for ni, nj in get_neighbours(i,j):\n",
    "                    if 0 < ni < N and 0 < nj < N:\n",
    "                        candidates.append([ni,nj])    \n",
    "    \n",
    "    return candidates\n",
    "    \n",
    "\n",
    "def get_p(diffusion_grid, candidates, eta): \n",
    "    weights = np.array([diffusion_grid[i, j]**eta for i, j in candidates])\n",
    "    return weights / np.sum(weights)  # Normalize probabilities\n",
    "\n",
    "\n",
    "\n",
    "def dla(c, cluster_grid, w, N, timesteps , eta, epsilon = 1e-5, max_iter=10000): \n",
    "    growth_evolution = {}\n",
    "    for timestep in range(timesteps): \n",
    "        \n",
    "        diffusion_grid = SOR_iteration(c, w, N)\n",
    "        \n",
    "        candidates = get_growth_candidates(cluster_grid, N)\n",
    "\n",
    "        if not candidates:\n",
    "            print(f\"No grotwh possibilities for the cluster left (after {timestep} timesteps)\")\n",
    "            break \n",
    "        p = get_p(diffusion_grid, candidates, eta)\n",
    "        \n",
    "        c_i, c_j = candidates[np.random.choice(len(candidates), p = p)]\n",
    "        print(c_i, c_j)\n",
    "        cluster_grid[c_i, c_j] = 1 \n",
    "        growth_evolution[timestep] = cluster_grid\n",
    "\n",
    "    return growth_evolution\n",
    "        \n"
   ]
  },
  {
   "cell_type": "code",
   "execution_count": 265,
   "metadata": {},
   "outputs": [],
   "source": [
    "## Parameters ## \n",
    "N = 10 \n",
    "eta = 1.0 \n",
    "steps = 100 \n"
   ]
  },
  {
   "cell_type": "code",
   "execution_count": 266,
   "metadata": {},
   "outputs": [],
   "source": [
    "## initialize ## \n",
    "\n",
    "c = np.zeros((N+1,N+1))\n",
    "#place seed at bottom centre \n",
    "cluster_grid = np.zeros((N+1,N+1)) #diffusion grid \n",
    "cluster_grid[N-1, N//2] = 1 \n",
    "\n"
   ]
  },
  {
   "cell_type": "code",
   "execution_count": 267,
   "metadata": {},
   "outputs": [
    {
     "name": "stdout",
     "output_type": "stream",
     "text": [
      "8 5\n",
      "9 5\n",
      "8 6\n",
      "8 5\n",
      "8 4\n",
      "9 4\n",
      "8 6\n",
      "9 6\n",
      "7 4\n",
      "7 5\n",
      "7 6\n",
      "7 5\n",
      "8 6\n",
      "6 4\n",
      "9 6\n",
      "9 7\n",
      "8 5\n",
      "9 7\n",
      "9 8\n",
      "9 6\n",
      "7 4\n",
      "9 3\n",
      "7 5\n",
      "6 5\n",
      "7 4\n",
      "9 4\n",
      "7 4\n",
      "8 6\n",
      "8 7\n",
      "8 5\n",
      "9 5\n",
      "9 6\n",
      "8 5\n",
      "8 5\n",
      "9 9\n",
      "9 7\n",
      "6 5\n",
      "9 8\n",
      "9 8\n",
      "8 6\n",
      "6 5\n",
      "9 5\n",
      "9 6\n",
      "8 9\n",
      "9 7\n",
      "8 4\n",
      "7 4\n",
      "9 5\n",
      "7 7\n",
      "6 5\n"
     ]
    }
   ],
   "source": [
    "growth_evolution = dla(c, cluster_grid, 1.8, N, 50, eta)"
   ]
  },
  {
   "cell_type": "code",
   "execution_count": 268,
   "metadata": {},
   "outputs": [
    {
     "name": "stderr",
     "output_type": "stream",
     "text": [
      "C:\\Users\\imaan\\AppData\\Local\\Temp\\ipykernel_19708\\1351722370.py:19: MatplotlibDeprecationWarning: The tostring_rgb function was deprecated in Matplotlib 3.8 and will be removed two minor releases later. Use buffer_rgba instead.\n",
      "  image = np.frombuffer(fig.canvas.tostring_rgb(), dtype='uint8')\n"
     ]
    }
   ],
   "source": [
    "def create_gif(growth_evolution, filename='cluster_growth.gif', interval=100):\n",
    "    \"\"\"\n",
    "    Create a GIF of the cluster spreading over time.\n",
    "\n",
    "    Parameters:\n",
    "    growth_evolution (dict): Dictionary containing the cluster grid at each timestep.\n",
    "    filename (str): Name of the output GIF file.\n",
    "    interval (int): Time interval between frames in milliseconds.\n",
    "    \"\"\"\n",
    "    frames = []\n",
    "    for timestep in sorted(growth_evolution.keys()):\n",
    "        fig, ax = plt.subplots()\n",
    "        ax.imshow(growth_evolution[timestep], cmap='Greys', interpolation='nearest')\n",
    "        ax.set_title(f'Timestep {timestep}')\n",
    "        ax.axis('off')\n",
    "        \n",
    "        # Save the current frame\n",
    "        fig.canvas.draw()\n",
    "        image = np.frombuffer(fig.canvas.tostring_rgb(), dtype='uint8')\n",
    "        image = image.reshape(fig.canvas.get_width_height()[::-1] + (3,))\n",
    "        frames.append(image)\n",
    "        plt.close(fig)\n",
    "    \n",
    "    # Create the GIF\n",
    "    imageio.mimsave(filename, frames, duration=interval / 1000)\n",
    "\n",
    "\n",
    "create_gif(growth_evolution)"
   ]
  }
 ],
 "metadata": {
  "kernelspec": {
   "display_name": "Python 3",
   "language": "python",
   "name": "python3"
  },
  "language_info": {
   "codemirror_mode": {
    "name": "ipython",
    "version": 3
   },
   "file_extension": ".py",
   "mimetype": "text/x-python",
   "name": "python",
   "nbconvert_exporter": "python",
   "pygments_lexer": "ipython3",
   "version": "3.10.2"
  }
 },
 "nbformat": 4,
 "nbformat_minor": 2
}
